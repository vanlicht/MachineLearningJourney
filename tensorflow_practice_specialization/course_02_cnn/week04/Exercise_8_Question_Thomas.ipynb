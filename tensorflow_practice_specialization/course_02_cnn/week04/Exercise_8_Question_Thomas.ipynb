{
  "nbformat": 4,
  "nbformat_minor": 0,
  "metadata": {
    "colab": {
      "name": "Exercise_8_Question-Thomas.ipynb",
      "provenance": [],
      "collapsed_sections": [],
      "mount_file_id": "1GA191aL2nfl5fHLFqLXskuneToNWFyqg",
      "authorship_tag": "ABX9TyMikE242VUc6utjJS4Wd7MH",
      "include_colab_link": true
    },
    "kernelspec": {
      "name": "python3",
      "display_name": "Python 3"
    },
    "accelerator": "GPU"
  },
  "cells": [
    {
      "cell_type": "markdown",
      "metadata": {
        "id": "view-in-github",
        "colab_type": "text"
      },
      "source": [
        "<a href=\"https://colab.research.google.com/github/vanlicht/MachineLearningJourney/blob/master/tensorflow_practice_specialization/course_02_cnn/week04/Exercise_8_Question_Thomas.ipynb\" target=\"_parent\"><img src=\"https://colab.research.google.com/assets/colab-badge.svg\" alt=\"Open In Colab\"/></a>"
      ]
    },
    {
      "cell_type": "code",
      "metadata": {
        "id": "qNOzOELdP2pT",
        "colab_type": "code",
        "colab": {}
      },
      "source": [
        "import csv\n",
        "import numpy as np\n",
        "import tensorflow as tf\n",
        "from tensorflow.keras.preprocessing.image import ImageDataGenerator\n",
        "from google.colab import files\n",
        "import zipfile\n",
        "import os"
      ],
      "execution_count": 1,
      "outputs": []
    },
    {
      "cell_type": "code",
      "metadata": {
        "id": "32xwt8ZBCcAZ",
        "colab_type": "code",
        "colab": {}
      },
      "source": [
        "local_zip = '/content/drive/My Drive/Tutorials_Learnings/Coursera-IntroToTensorflow/course_2_ConvolutionalNeuralNetworksInTensorFlow/week04/3258_5337_bundle_archive.zip'\n",
        "\n",
        "zip_ref = zipfile.ZipFile(local_zip, mode='r')\n",
        "zip_ref.extractall('/tmp')\n",
        "zip_ref.close()\n"
      ],
      "execution_count": 2,
      "outputs": []
    },
    {
      "cell_type": "code",
      "metadata": {
        "id": "E46w_fpRNXoz",
        "colab_type": "code",
        "colab": {
          "base_uri": "https://localhost:8080/",
          "height": 86
        },
        "outputId": "d79b53d3-24f4-4e88-a7c4-1b5da5a2261f"
      },
      "source": [
        "def get_data(filename):\n",
        "  images=[]\n",
        "  labels=[]\n",
        "  #with open('mycsv.csv', 'r') as csvfile:\n",
        "  with open(filename, 'r') as csv_file:\n",
        "    csvreader = csv.reader(csv_file)\n",
        "    fields = next(csvreader) #here will also skip the headers, this is python 3\n",
        "    # extracting field names through first row \n",
        "    for row in csvreader:\n",
        "      labels.append(row[0])\n",
        "\n",
        "      #get the 1D array back to 28 by 28, either use np.reshape or np.array_split\n",
        "      #https://numpy.org/doc/stable/reference/generated/numpy.array_split.html\n",
        "      image = np.array_split(np.array(row[1:]), 28, axis=0)\n",
        "\n",
        "      #alternatively use np.reshape\n",
        "      # image = np.array(row[1:]).astype(float).reshape(28, 28)\n",
        "      images.append(image)\n",
        "  \n",
        "  images = np.array(images).astype(float)\n",
        "  labels = np.array(labels).astype(int)\n",
        "\n",
        "  return images, labels\n",
        "\n",
        "train_file = '/tmp/sign_mnist_train/sign_mnist_train.csv'\n",
        "test_file = '/tmp/sign_mnist_test/sign_mnist_test.csv'\n",
        "\n",
        "training_images, training_labels = get_data(train_file)\n",
        "testing_images, testing_labels = get_data(test_file)\n",
        "\n",
        "# # Keep these\n",
        "print(training_images.shape)\n",
        "print(training_labels.shape)\n",
        "print(testing_images.shape)\n",
        "print(testing_labels.shape)\n",
        "\n",
        "# Their output should be:\n",
        "# (27455, 28, 28)\n",
        "# (27455,)\n",
        "# (7172, 28, 28)\n",
        "# (7172,)\n"
      ],
      "execution_count": 3,
      "outputs": [
        {
          "output_type": "stream",
          "text": [
            "(27455, 28, 28)\n",
            "(27455,)\n",
            "(7172, 28, 28)\n",
            "(7172,)\n"
          ],
          "name": "stdout"
        }
      ]
    },
    {
      "cell_type": "code",
      "metadata": {
        "id": "5TNuZPvFoBac",
        "colab_type": "code",
        "colab": {
          "base_uri": "https://localhost:8080/",
          "height": 34
        },
        "outputId": "bb4543ee-9798-4ac3-a08f-f5671c4f88ef"
      },
      "source": [
        "#fiture out how many unique labels by using set(training_labels)\n",
        "#The American Sign Language letter database of hand gestures represent a multi-class problem \n",
        "#with 24 classes of letters (excluding J and Z which require motion).\n",
        "len(set(testing_labels))"
      ],
      "execution_count": 4,
      "outputs": [
        {
          "output_type": "execute_result",
          "data": {
            "text/plain": [
              "24"
            ]
          },
          "metadata": {
            "tags": []
          },
          "execution_count": 4
        }
      ]
    },
    {
      "cell_type": "code",
      "metadata": {
        "id": "9wwSm64xebYk",
        "colab_type": "code",
        "colab": {
          "base_uri": "https://localhost:8080/",
          "height": 52
        },
        "outputId": "22a27f37-1ae7-40db-b5e3-2b0097d31040"
      },
      "source": [
        "# In this section you will have to add another dimension to the data\n",
        "# So, for example, if your array is (10000, 28, 28)\n",
        "# You will need to make it (10000, 28, 28, 1)\n",
        "# Hint: np.expand_dims\n",
        "\n",
        "training_images = np.expand_dims(training_images, axis=-1)\n",
        "testing_images = np.expand_dims(testing_images, axis=-1)\n",
        "\n",
        "# Keep These\n",
        "print(training_images.shape)\n",
        "print(testing_images.shape)\n",
        "    \n",
        "# Their output should be:\n",
        "# (27455, 28, 28, 1)\n",
        "# (7172, 28, 28, 1)"
      ],
      "execution_count": 5,
      "outputs": [
        {
          "output_type": "stream",
          "text": [
            "(27455, 28, 28, 1)\n",
            "(7172, 28, 28, 1)\n"
          ],
          "name": "stdout"
        }
      ]
    },
    {
      "cell_type": "code",
      "metadata": {
        "id": "hhjRNYA5g_j6",
        "colab_type": "code",
        "colab": {}
      },
      "source": [
        "# Create an ImageDataGenerator and do Image Augmentation\n",
        "train_datagen = ImageDataGenerator(\n",
        "    rescale=1.0/255, \n",
        "    rotation_range=40,\n",
        "    width_shift_range=0.2,\n",
        "    height_shift_range=0.2, \n",
        "    shear_range=0.2, \n",
        "    zoom_range=0.2, \n",
        "    fill_mode='nearest', \n",
        "    horizontal_flip=True)\n",
        "\n",
        "train_generator = train_datagen.flow(\n",
        "    x = training_images, \n",
        "    y = training_labels, \n",
        "    batch_size=32)\n",
        "\n",
        "validate_datagen = ImageDataGenerator(rescale=1.0/255)\n",
        "validate_generator = validate_datagen.flow(\n",
        "    x=testing_images, \n",
        "    y=testing_labels, \n",
        "    batch_size=32)"
      ],
      "execution_count": 7,
      "outputs": []
    },
    {
      "cell_type": "code",
      "metadata": {
        "id": "t57NEdi-kgUk",
        "colab_type": "code",
        "colab": {}
      },
      "source": [
        "# Define the model\n",
        "# Use no more than 2 Conv2D and 2 MaxPooling2D\n",
        "\n",
        "model = tf.keras.models.Sequential([\n",
        "  tf.keras.layers.Conv2D(filters=32, kernel_size=(3,3),activation='relu',input_shape=(28,28,1)), \n",
        "  tf.keras.layers.MaxPool2D(pool_size=(2,2)),\n",
        "  tf.keras.layers.Conv2D(filters=64, kernel_size=(3,3),activation='relu'),\n",
        "  tf.keras.layers.MaxPool2D(pool_size=(2,2)),\n",
        "  tf.keras.layers.Flatten(),\n",
        "  tf.keras.layers.Dropout(rate=0.7),\n",
        "  tf.keras.layers.Dense(units=512, activation='relu'),\n",
        "  tf.keras.layers.Dense(units=25, activation='softmax')])"
      ],
      "execution_count": 60,
      "outputs": []
    },
    {
      "cell_type": "code",
      "metadata": {
        "id": "TRTeLsUNqS6b",
        "colab_type": "code",
        "colab": {
          "base_uri": "https://localhost:8080/",
          "height": 432
        },
        "outputId": "eb191be1-f2e3-4c26-fb7b-207ceda44768"
      },
      "source": [
        "model.summary()"
      ],
      "execution_count": 61,
      "outputs": [
        {
          "output_type": "stream",
          "text": [
            "Model: \"sequential_13\"\n",
            "_________________________________________________________________\n",
            "Layer (type)                 Output Shape              Param #   \n",
            "=================================================================\n",
            "conv2d_26 (Conv2D)           (None, 26, 26, 32)        320       \n",
            "_________________________________________________________________\n",
            "max_pooling2d_26 (MaxPooling (None, 13, 13, 32)        0         \n",
            "_________________________________________________________________\n",
            "conv2d_27 (Conv2D)           (None, 11, 11, 64)        18496     \n",
            "_________________________________________________________________\n",
            "max_pooling2d_27 (MaxPooling (None, 5, 5, 64)          0         \n",
            "_________________________________________________________________\n",
            "flatten_13 (Flatten)         (None, 1600)              0         \n",
            "_________________________________________________________________\n",
            "dropout_13 (Dropout)         (None, 1600)              0         \n",
            "_________________________________________________________________\n",
            "dense_26 (Dense)             (None, 512)               819712    \n",
            "_________________________________________________________________\n",
            "dense_27 (Dense)             (None, 25)                12825     \n",
            "=================================================================\n",
            "Total params: 851,353\n",
            "Trainable params: 851,353\n",
            "Non-trainable params: 0\n",
            "_________________________________________________________________\n"
          ],
          "name": "stdout"
        }
      ]
    },
    {
      "cell_type": "code",
      "metadata": {
        "id": "PddaKp8tqZ1h",
        "colab_type": "code",
        "colab": {}
      },
      "source": [
        "# Compile Model\n",
        "model.compile(optimizer='adam', loss='sparse_categorical_crossentropy', metrics=['accuracy'])"
      ],
      "execution_count": 62,
      "outputs": []
    },
    {
      "cell_type": "code",
      "metadata": {
        "id": "LLB44sAMsdFH",
        "colab_type": "code",
        "colab": {
          "base_uri": "https://localhost:8080/",
          "height": 52
        },
        "outputId": "a52ed1fc-d910-4366-fe66-35f2da9add16"
      },
      "source": [
        "spe = int(len(training_images)/32)\n",
        "vsteps = int(len(testing_images)/32)\n",
        "print(spe)\n",
        "print(vsteps)"
      ],
      "execution_count": 63,
      "outputs": [
        {
          "output_type": "stream",
          "text": [
            "857\n",
            "224\n"
          ],
          "name": "stdout"
        }
      ]
    },
    {
      "cell_type": "code",
      "metadata": {
        "id": "4PzbRp1TrSNq",
        "colab_type": "code",
        "colab": {
          "base_uri": "https://localhost:8080/",
          "height": 728
        },
        "outputId": "772804fe-c342-4bf5-cdec-5a56020f6195"
      },
      "source": [
        "history = model.fit(\n",
        "    x=train_generator,\n",
        "    epochs=20,\n",
        "    verbose=1,\n",
        "    validation_data = validate_generator,\n",
        "    steps_per_epoch = spe,\n",
        "    validation_steps = vsteps)"
      ],
      "execution_count": 64,
      "outputs": [
        {
          "output_type": "stream",
          "text": [
            "Epoch 1/20\n",
            "857/857 [==============================] - 9s 11ms/step - loss: 2.8235 - accuracy: 0.1409 - val_loss: 2.0112 - val_accuracy: 0.3899\n",
            "Epoch 2/20\n",
            "857/857 [==============================] - 9s 10ms/step - loss: 2.3066 - accuracy: 0.2743 - val_loss: 1.7733 - val_accuracy: 0.3602\n",
            "Epoch 3/20\n",
            "857/857 [==============================] - 9s 10ms/step - loss: 2.0268 - accuracy: 0.3564 - val_loss: 1.2756 - val_accuracy: 0.5815\n",
            "Epoch 4/20\n",
            "857/857 [==============================] - 9s 10ms/step - loss: 1.8205 - accuracy: 0.4100 - val_loss: 1.1595 - val_accuracy: 0.6031\n",
            "Epoch 5/20\n",
            "857/857 [==============================] - 9s 10ms/step - loss: 1.6863 - accuracy: 0.4541 - val_loss: 0.9229 - val_accuracy: 0.6934\n",
            "Epoch 6/20\n",
            "857/857 [==============================] - 9s 10ms/step - loss: 1.5771 - accuracy: 0.4839 - val_loss: 0.9418 - val_accuracy: 0.6836\n",
            "Epoch 7/20\n",
            "857/857 [==============================] - 9s 10ms/step - loss: 1.4756 - accuracy: 0.5158 - val_loss: 0.8756 - val_accuracy: 0.6992\n",
            "Epoch 8/20\n",
            "857/857 [==============================] - 9s 10ms/step - loss: 1.3931 - accuracy: 0.5421 - val_loss: 0.7220 - val_accuracy: 0.7761\n",
            "Epoch 9/20\n",
            "857/857 [==============================] - 9s 10ms/step - loss: 1.3435 - accuracy: 0.5514 - val_loss: 0.6368 - val_accuracy: 0.7866\n",
            "Epoch 10/20\n",
            "857/857 [==============================] - 9s 10ms/step - loss: 1.2831 - accuracy: 0.5733 - val_loss: 0.5909 - val_accuracy: 0.8195\n",
            "Epoch 11/20\n",
            "857/857 [==============================] - 9s 10ms/step - loss: 1.2651 - accuracy: 0.5813 - val_loss: 0.5719 - val_accuracy: 0.8330\n",
            "Epoch 12/20\n",
            "857/857 [==============================] - 9s 10ms/step - loss: 1.2014 - accuracy: 0.6020 - val_loss: 0.5577 - val_accuracy: 0.8230\n",
            "Epoch 13/20\n",
            "857/857 [==============================] - 9s 10ms/step - loss: 1.1564 - accuracy: 0.6196 - val_loss: 0.5145 - val_accuracy: 0.8297\n",
            "Epoch 14/20\n",
            "857/857 [==============================] - 9s 10ms/step - loss: 1.1271 - accuracy: 0.6256 - val_loss: 0.5053 - val_accuracy: 0.8371\n",
            "Epoch 15/20\n",
            "857/857 [==============================] - 9s 10ms/step - loss: 1.0847 - accuracy: 0.6363 - val_loss: 0.4153 - val_accuracy: 0.8655\n",
            "Epoch 16/20\n",
            "857/857 [==============================] - 9s 10ms/step - loss: 1.0641 - accuracy: 0.6439 - val_loss: 0.4405 - val_accuracy: 0.8463\n",
            "Epoch 17/20\n",
            "857/857 [==============================] - 9s 10ms/step - loss: 1.0404 - accuracy: 0.6517 - val_loss: 0.3930 - val_accuracy: 0.8634\n",
            "Epoch 18/20\n",
            "857/857 [==============================] - 9s 10ms/step - loss: 1.0231 - accuracy: 0.6597 - val_loss: 0.3699 - val_accuracy: 0.8763\n",
            "Epoch 19/20\n",
            "857/857 [==============================] - 9s 10ms/step - loss: 0.9898 - accuracy: 0.6703 - val_loss: 0.3453 - val_accuracy: 0.8768\n",
            "Epoch 20/20\n",
            "857/857 [==============================] - 9s 11ms/step - loss: 0.9756 - accuracy: 0.6748 - val_loss: 0.3309 - val_accuracy: 0.8975\n"
          ],
          "name": "stdout"
        }
      ]
    },
    {
      "cell_type": "code",
      "metadata": {
        "id": "eK6V3Fq6zQRo",
        "colab_type": "code",
        "colab": {
          "base_uri": "https://localhost:8080/",
          "height": 34
        },
        "outputId": "fe1d2c5a-d5d9-4964-e148-5d3e3a4abb0a"
      },
      "source": [
        "model.evaluate(x=testing_images, y=testing_labels, batch_size=32, verbose=0)"
      ],
      "execution_count": 66,
      "outputs": [
        {
          "output_type": "execute_result",
          "data": {
            "text/plain": [
              "[142.1602783203125, 0.5600948333740234]"
            ]
          },
          "metadata": {
            "tags": []
          },
          "execution_count": 66
        }
      ]
    },
    {
      "cell_type": "code",
      "metadata": {
        "id": "HY7PjqRyzstt",
        "colab_type": "code",
        "colab": {
          "base_uri": "https://localhost:8080/",
          "height": 545
        },
        "outputId": "a6aba64a-1ede-47a8-c5cb-50535fc15086"
      },
      "source": [
        "# Plot the chart for accuracy and loss on both training and validation\n",
        "\n",
        "import matplotlib.pyplot as plt\n",
        "acc = history.history['accuracy']\n",
        "val_acc = history.history['val_accuracy']\n",
        "loss = history.history['loss']\n",
        "val_loss = history.history['val_loss']\n",
        "\n",
        "epochs = range(len(acc))\n",
        "\n",
        "plt.plot(epochs, acc, 'r', label='Training accuracy')\n",
        "plt.plot(epochs, val_acc, 'b', label='Validation accuracy')\n",
        "plt.title('Training and validation accuracy')\n",
        "plt.legend()\n",
        "plt.figure()\n",
        "\n",
        "plt.plot(epochs, loss, 'r', label='Training Loss')\n",
        "plt.plot(epochs, val_loss, 'b', label='Validation Loss')\n",
        "plt.title('Training and validation loss')\n",
        "plt.legend()\n",
        "\n",
        "plt.show()"
      ],
      "execution_count": 69,
      "outputs": [
        {
          "output_type": "display_data",
          "data": {
            "image/png": "[encoded data removed]",
            "text/plain": [
              "<Figure size 432x288 with 1 Axes>"
            ]
          },
          "metadata": {
            "tags": [],
            "needs_background": "light"
          }
        },
        {
          "output_type": "display_data",
          "data": {
            "image/png": "[encoded data removed]",
            "text/plain": [
              "<Figure size 432x288 with 1 Axes>"
            ]
          },
          "metadata": {
            "tags": [],
            "needs_background": "light"
          }
        }
      ]
    }
  ]
}